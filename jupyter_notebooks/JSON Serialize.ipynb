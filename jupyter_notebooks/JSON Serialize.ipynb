{
 "cells": [
  {
   "cell_type": "markdown",
   "id": "tough-papua",
   "metadata": {},
   "source": [
    "# Encoding & Decoding Python Objects with JSON"
   ]
  },
  {
   "cell_type": "markdown",
   "id": "distinct-tractor",
   "metadata": {},
   "source": [
    "This guide will walk through creating custom encoders when dumping dictionaries to JSON objects. \n",
    "\n",
    "Let us create a dictionary containing nested python objects.  The JSON module can only convert basic python types by default.  In this notebook, I plan to demonstrate how to create a custom encoder to dump python dictionaries that contain object types. \n",
    "\n",
    "Below is an table of the default supported types:\n",
    "\n",
    "| Python      | JSON        |\n",
    "| ----------- | ----------- |\n",
    "| dict      | ojbect        |\n",
    "| list, tuple   | array        |\n",
    "|str  | str        |\n",
    "|int, float, int- & float-derived Enums  | number    |\n",
    "|True  | true        |\n",
    "|False  | false        |\n",
    "|None  | null        |\n",
    "\n",
    "\n"
   ]
  },
  {
   "cell_type": "markdown",
   "id": "instrumental-arcade",
   "metadata": {},
   "source": [
    "Custom Python objects will have an issue serializing and will require custom encoders to process those types. \n",
    "\n",
    "First, let's set up the environment by importing the JSON module. In this example, our dictionary will contain an item with a custom class called \"Decimal.\"  When invoking the JSON dumps method, we will illustrate what happens when you do not have a custom decoder configured.  \n",
    "\n"
   ]
  },
  {
   "cell_type": "code",
   "execution_count": 2,
   "id": "electric-position",
   "metadata": {},
   "outputs": [
    {
     "name": "stdout",
     "output_type": "stream",
     "text": [
      "Object of type Decimal is not JSON serializable\n"
     ]
    }
   ],
   "source": [
    "import json \n",
    "\n",
    "# Step 1\n",
    "class Decimal:\n",
    "    def __init__(self, num):\n",
    "        self.num = num\n",
    "        \n",
    "    def __repr__(self):\n",
    "        return f'< Decimal(num={self.num}) >'\n",
    "\n",
    "    \n",
    "# Step 2\n",
    "my_decimal = Decimal(5)\n",
    "\n",
    "data = {\n",
    "    \"item1\": my_decimal,\n",
    "    \"item2\": 5\n",
    "}\n",
    "\n",
    "try:\n",
    "    json.dumps(data)\n",
    "except TypeError as err:\n",
    "  \n",
    "    \n",
    "    print(str(err))\n",
    "    \n"
   ]
  },
  {
   "cell_type": "markdown",
   "id": "amazing-humor",
   "metadata": {},
   "source": [
    "The message above describes the TypeError exception raising. The is due to the \"item1 key\" containing the value of an instance of a Decimal object. \n",
    "\n",
    "Next, let us create a serialization function that will be able to handle the encoding to JSON. This function will check if the object is of the correct type. The function will return the converted basic python type. \n",
    "\n",
    "Let's pass the newly created serialize function to the 'default' parameter to the JSON dumps function call."
   ]
  },
  {
   "cell_type": "code",
   "execution_count": 57,
   "id": "weighted-trace",
   "metadata": {},
   "outputs": [
    {
     "name": "stdout",
     "output_type": "stream",
     "text": [
      "{\"item1\": 5, \"item2\": 5}\n",
      "{'item1': < Decimal(num=5) >, 'item2': < Decimal(num=5) >}\n"
     ]
    }
   ],
   "source": [
    "def encode(obj):\n",
    "    if isinstance(obj, Decimal):\n",
    "        return int(obj.num)\n",
    "    return obj.__dict__\n",
    "\n",
    "\n",
    "def object_hook(obj):\n",
    "    \n",
    "    if isinstance(obj, dict):\n",
    "       for key, val in obj.items():\n",
    "            if isinstance(val, int):\n",
    "                obj[key] = Decimal(val)\n",
    "            \n",
    "    return obj\n",
    "\n",
    "\n",
    "    \n",
    "# Encodes the \n",
    "json_str = json.dumps(data, default=encode)\n",
    "\n",
    "json_data = json.loads(json_str, object_hook=object_hook)\n",
    "print(json_str)\n",
    "print(json_data)\n"
   ]
  },
  {
   "cell_type": "markdown",
   "id": "collectible-entity",
   "metadata": {},
   "source": [
    "The above output displays the python type of the resulting JSON dumps calls as a string instead of a dictionary.  Binary data is transferred across the wire when using JSON. JSON represents its data as a human-readable string.  If you would like to access the properties of the JSON object, you will not be able to do so unless you reconvert the string back into a python object."
   ]
  },
  {
   "cell_type": "code",
   "execution_count": 175,
   "id": "standard-picnic",
   "metadata": {},
   "outputs": [],
   "source": [
    "class Router:\n",
    "    def __init__(self, **kwargs):\n",
    "        self.name = kwargs.get('name')\n",
    "        self.vendor = kwargs.get('vendor')\n",
    "        \n",
    "    def __repr__(self):\n",
    "        return f'< Router(name={self.name}, vendor={self.vendor}) >'\n",
    "  \n",
    "\n",
    "class Switch:\n",
    "    def __init__(self, **kwargs):\n",
    "        self.name = kwargs.get('name')\n",
    "        self.vendor = kwargs.get('vendor')\n",
    "        \n",
    "    def __repr__(self):\n",
    "        return f'< Switch(name={self.name}, vendor={self.vendor}) >'\n",
    "\n",
    "def generate_nodes(count=50):\n",
    "    return [{'name': f'Node{i}', 'vendor': random.choice(vendors), '__class__': random.choice(classes)} for i in range(count)]\n",
    "\n",
    "    \n",
    "vendors = ['cisco', 'juniper', None]\n",
    "classes = ['rtr', 'sw', 'bad_class']\n",
    "import random\n",
    "\n",
    "\n",
    "routers_objs = generate_nodes(50)\n"
   ]
  },
  {
   "cell_type": "code",
   "execution_count": 189,
   "id": "packed-moses",
   "metadata": {},
   "outputs": [
    {
     "name": "stdout",
     "output_type": "stream",
     "text": [
      "[{'name': 'Node3', 'vendor': 'juniper', '__class__': 'bad_class'}, {'name': 'Node7', 'vendor': None, '__class__': 'bad_class'}, {'name': 'Node8', 'vendor': None, '__class__': 'bad_class'}, {'name': 'Node13', 'vendor': None, '__class__': 'bad_class'}, {'name': 'Node15', 'vendor': None, '__class__': 'bad_class'}, {'name': 'Node16', 'vendor': 'juniper', '__class__': 'bad_class'}, {'name': 'Node20', 'vendor': None, '__class__': 'bad_class'}, {'name': 'Node30', 'vendor': None, '__class__': 'bad_class'}, {'name': 'Node31', 'vendor': None, '__class__': 'bad_class'}, {'name': 'Node33', 'vendor': 'juniper', '__class__': 'bad_class'}, {'name': 'Node34', 'vendor': 'juniper', '__class__': 'bad_class'}, {'name': 'Node35', 'vendor': 'juniper', '__class__': 'bad_class'}, {'name': 'Node39', 'vendor': 'juniper', '__class__': 'bad_class'}, {'name': 'Node41', 'vendor': None, '__class__': 'bad_class'}, {'name': 'Node44', 'vendor': 'cisco', '__class__': 'bad_class'}, {'name': 'Node49', 'vendor': None, '__class__': 'bad_class'}]\n",
      "[< Router(name=Node0, vendor=None) >, < Switch(name=Node1, vendor=None) >, < Router(name=Node2, vendor=None) >, < Router(name=Node4, vendor=cisco) >, < Switch(name=Node5, vendor=cisco) >, < Router(name=Node6, vendor=cisco) >, < Switch(name=Node9, vendor=juniper) >, < Router(name=Node10, vendor=cisco) >, < Router(name=Node11, vendor=juniper) >, < Router(name=Node12, vendor=cisco) >, < Router(name=Node14, vendor=juniper) >, < Switch(name=Node17, vendor=cisco) >, < Router(name=Node18, vendor=None) >, < Switch(name=Node19, vendor=juniper) >, < Switch(name=Node21, vendor=juniper) >, < Router(name=Node22, vendor=juniper) >, < Switch(name=Node23, vendor=cisco) >, < Switch(name=Node24, vendor=juniper) >, < Switch(name=Node25, vendor=None) >, < Router(name=Node26, vendor=juniper) >, < Router(name=Node27, vendor=juniper) >, < Switch(name=Node28, vendor=None) >, < Router(name=Node29, vendor=juniper) >, < Router(name=Node32, vendor=cisco) >, < Switch(name=Node36, vendor=None) >, < Switch(name=Node37, vendor=cisco) >, < Router(name=Node38, vendor=cisco) >, < Switch(name=Node40, vendor=juniper) >, < Switch(name=Node42, vendor=juniper) >, < Router(name=Node43, vendor=juniper) >, < Switch(name=Node45, vendor=juniper) >, < Switch(name=Node46, vendor=cisco) >, < Switch(name=Node47, vendor=None) >, < Router(name=Node48, vendor=cisco) >]\n"
     ]
    },
    {
     "data": {
      "text/plain": [
       "[< Router(name=Node0, vendor=None) >,\n",
       " < Switch(name=Node1, vendor=None) >,\n",
       " < Router(name=Node2, vendor=None) >,\n",
       " {'name': 'Node3', 'vendor': 'juniper', '__class__': 'bad_class'},\n",
       " < Router(name=Node4, vendor=cisco) >,\n",
       " < Switch(name=Node5, vendor=cisco) >,\n",
       " < Router(name=Node6, vendor=cisco) >,\n",
       " {'name': 'Node7', 'vendor': None, '__class__': 'bad_class'},\n",
       " {'name': 'Node8', 'vendor': None, '__class__': 'bad_class'},\n",
       " < Switch(name=Node9, vendor=juniper) >,\n",
       " < Router(name=Node10, vendor=cisco) >,\n",
       " < Router(name=Node11, vendor=juniper) >,\n",
       " < Router(name=Node12, vendor=cisco) >,\n",
       " {'name': 'Node13', 'vendor': None, '__class__': 'bad_class'},\n",
       " < Router(name=Node14, vendor=juniper) >,\n",
       " {'name': 'Node15', 'vendor': None, '__class__': 'bad_class'},\n",
       " {'name': 'Node16', 'vendor': 'juniper', '__class__': 'bad_class'},\n",
       " < Switch(name=Node17, vendor=cisco) >,\n",
       " < Router(name=Node18, vendor=None) >,\n",
       " < Switch(name=Node19, vendor=juniper) >,\n",
       " {'name': 'Node20', 'vendor': None, '__class__': 'bad_class'},\n",
       " < Switch(name=Node21, vendor=juniper) >,\n",
       " < Router(name=Node22, vendor=juniper) >,\n",
       " < Switch(name=Node23, vendor=cisco) >,\n",
       " < Switch(name=Node24, vendor=juniper) >,\n",
       " < Switch(name=Node25, vendor=None) >,\n",
       " < Router(name=Node26, vendor=juniper) >,\n",
       " < Router(name=Node27, vendor=juniper) >,\n",
       " < Switch(name=Node28, vendor=None) >,\n",
       " < Router(name=Node29, vendor=juniper) >,\n",
       " {'name': 'Node30', 'vendor': None, '__class__': 'bad_class'},\n",
       " {'name': 'Node31', 'vendor': None, '__class__': 'bad_class'},\n",
       " < Router(name=Node32, vendor=cisco) >,\n",
       " {'name': 'Node33', 'vendor': 'juniper', '__class__': 'bad_class'},\n",
       " {'name': 'Node34', 'vendor': 'juniper', '__class__': 'bad_class'},\n",
       " {'name': 'Node35', 'vendor': 'juniper', '__class__': 'bad_class'},\n",
       " < Switch(name=Node36, vendor=None) >,\n",
       " < Switch(name=Node37, vendor=cisco) >,\n",
       " < Router(name=Node38, vendor=cisco) >,\n",
       " {'name': 'Node39', 'vendor': 'juniper', '__class__': 'bad_class'},\n",
       " < Switch(name=Node40, vendor=juniper) >,\n",
       " {'name': 'Node41', 'vendor': None, '__class__': 'bad_class'},\n",
       " < Switch(name=Node42, vendor=juniper) >,\n",
       " < Router(name=Node43, vendor=juniper) >,\n",
       " {'name': 'Node44', 'vendor': 'cisco', '__class__': 'bad_class'},\n",
       " < Switch(name=Node45, vendor=juniper) >,\n",
       " < Switch(name=Node46, vendor=cisco) >,\n",
       " < Switch(name=Node47, vendor=None) >,\n",
       " < Router(name=Node48, vendor=cisco) >,\n",
       " {'name': 'Node49', 'vendor': None, '__class__': 'bad_class'}]"
      ]
     },
     "execution_count": 189,
     "metadata": {},
     "output_type": "execute_result"
    }
   ],
   "source": [
    "class MyDecoder(json.JSONDecoder):\n",
    "    \"\"\"\n",
    "    Decodes the JSON string into a ptyhon object.  \n",
    "    \"\"\"\n",
    "    def __init__(self, *args, **kwargs):\n",
    "        json.JSONDecoder.__init__(self, object_hook=self.object_hook, *args, **kwargs)\n",
    "\n",
    "    def object_hook(self, obj):\n",
    "        if isinstance(obj, dict):\n",
    "            for key, val in obj.items():\n",
    "                if isinstance(val, int):\n",
    "                    obj[key] = Decimal(val)\n",
    "        \n",
    "        if '__class__' in obj.keys():\n",
    "            if obj.get(\"__class__\") == 'rtr' :\n",
    "                return Router(name=obj.get(\"name\"), vendor=obj.get(\"vendor\"))\n",
    "            \n",
    "            if obj.get(\"__class__\") == 'sw' :\n",
    "                return Switch(name=obj.get(\"name\"), vendor=obj.get(\"vendor\"))\n",
    "            \n",
    "        return obj\n",
    "\n",
    "    \n",
    "class MyEncoder(json.JSONEncoder):\n",
    "    def default(self, obj):\n",
    "        if isinstance(obj, Decimal):\n",
    "            return int(obj.num)\n",
    "        \n",
    "        return obj.__dict__\n",
    "    \n",
    "\n",
    "    \n",
    "def json_loads(data):\n",
    "    if isinstance(data, dict):\n",
    "        return MyDecoder().decode(json.dumps(data))\n",
    "    \n",
    "    if isinstance(data, bytes) or isinstance(data, str):\n",
    "        return MyDecoder().decode(data)\n",
    "\n",
    "def json_dumps(obj):\n",
    "    return MyEncoder().encode(obj)\n",
    "\n",
    "\n",
    "# Encodes the \n",
    "json_dump_results = json_dumps(data)\n",
    "json_loads_results = [json_loads(router) for router in routers_objs]\n",
    "\n",
    "\n",
    "def _filter_bad_classes(result):\n",
    "    if isinstance(result, dict):\n",
    "        if result.get(\"__class__\") == 'bad_class':\n",
    "            return True\n",
    "        else:\n",
    "            return False\n",
    "        \n",
    "    return False\n",
    "\n",
    "def _filter_cisco_classes(result):\n",
    "\n",
    "    if isinstance(result, Router) or isinstance(result, Switch):\n",
    "        if result.vendor in vendors:\n",
    "            return True\n",
    "        else:\n",
    "            return False\n",
    "        \n",
    "    return False\n",
    "\n",
    "def filter_bad_classes(json_results):\n",
    "    return list(filter(_filter_bad_classes, json_results))\n",
    "\n",
    "def filter_cisco_classes(json_results):\n",
    "    return list(filter(_filter_cisco_classes, json_results))\n",
    "\n",
    "# print(json_dump_results)\n",
    "print(filter_bad_classes(json_loads_results))\n",
    "\n",
    "print(filter_cisco_classes(json_loads_results))\n",
    "\n",
    "json_loads_results"
   ]
  },
  {
   "cell_type": "code",
   "execution_count": null,
   "id": "unknown-button",
   "metadata": {},
   "outputs": [],
   "source": []
  },
  {
   "cell_type": "code",
   "execution_count": null,
   "id": "russian-belief",
   "metadata": {},
   "outputs": [],
   "source": []
  }
 ],
 "metadata": {
  "kernelspec": {
   "display_name": "Python 3",
   "language": "python",
   "name": "python3"
  },
  "language_info": {
   "codemirror_mode": {
    "name": "ipython",
    "version": 3
   },
   "file_extension": ".py",
   "mimetype": "text/x-python",
   "name": "python",
   "nbconvert_exporter": "python",
   "pygments_lexer": "ipython3",
   "version": "3.7.7"
  }
 },
 "nbformat": 4,
 "nbformat_minor": 5
}
