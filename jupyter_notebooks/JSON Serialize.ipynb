{
 "cells": [
  {
   "cell_type": "markdown",
   "id": "tough-papua",
   "metadata": {},
   "source": [
    "# Encoding Python Objects with JSON"
   ]
  },
  {
   "cell_type": "markdown",
   "id": "distinct-tractor",
   "metadata": {},
   "source": [
    "This guide will walk through creating custom encoders when dumping dictionaries to JSON objects. \n",
    "\n",
    "Let us create a dictionary containing nested python objects.  The JSON module can only convert basic python types by default.  In this notebook, I plan to demonstrate how to create a custom encoder to dump python dictionaries that contain object types. \n",
    "\n",
    "Below is an table of the default supported types:\n",
    "\n",
    "| Python      | JSON        |\n",
    "| ----------- | ----------- |\n",
    "| dict      | ojbect        |\n",
    "| list, tuple   | array        |\n",
    "|str  | str        |\n",
    "|int, float, int- & float-derived Enums  | number    |\n",
    "|True  | true        |\n",
    "|False  | false        |\n",
    "|None  | null        |\n",
    "\n",
    "\n"
   ]
  },
  {
   "cell_type": "markdown",
   "id": "instrumental-arcade",
   "metadata": {},
   "source": [
    "Custom Python objects will have an issue serializing and will require custom encoders to process those types. \n",
    "\n",
    "First, let's set up the environment by importing the JSON module. In this example, our dictionary will contain an item with a custom class called \"Decimal.\"  When invoking the JSON dumps method, we will illustrate what happens when you do not have a custom decoder configured.  \n",
    "\n"
   ]
  },
  {
   "cell_type": "code",
   "execution_count": 38,
   "id": "electric-position",
   "metadata": {},
   "outputs": [
    {
     "name": "stdout",
     "output_type": "stream",
     "text": [
      "Object of type Decimal is not JSON serializable\n"
     ]
    }
   ],
   "source": [
    "import json \n",
    "\n",
    "# Step 1\n",
    "class Decimal:\n",
    "    def __init__(self, num):\n",
    "        self.num = num\n",
    "        \n",
    "    def __repr__(self):\n",
    "        return f'< Decimal(num={self.num}) >'\n",
    "\n",
    "    \n",
    "# Step 2\n",
    "my_decimal = Decimal(5)\n",
    "\n",
    "data = {\n",
    "    \"item1\": my_decimal,\n",
    "    \"item2\": 5\n",
    "}\n",
    "\n",
    "try:\n",
    "    json.dumps(data)\n",
    "except TypeError as err:\n",
    "  \n",
    "    \n",
    "    print(str(err))\n",
    "    \n"
   ]
  },
  {
   "cell_type": "markdown",
   "id": "amazing-humor",
   "metadata": {},
   "source": [
    "The message above describes the TypeError exception raising. The is due to the \"item1 key\" containing the value of an instance of a Decimal object. \n",
    "\n",
    "Next, let us create a serialization function that will be able to handle the encoding to JSON. This function will check if the object is of the correct type. The function will return the converted basic python type. \n",
    "\n",
    "Let's pass the newly created serialize function to the 'default' parameter to the JSON dumps function call."
   ]
  },
  {
   "cell_type": "code",
   "execution_count": 43,
   "id": "weighted-trace",
   "metadata": {},
   "outputs": [
    {
     "name": "stdout",
     "output_type": "stream",
     "text": [
      "{\"item1\": 5, \"item2\": 5}\n"
     ]
    },
    {
     "data": {
      "text/plain": [
       "str"
      ]
     },
     "execution_count": 43,
     "metadata": {},
     "output_type": "execute_result"
    }
   ],
   "source": [
    "def encode(obj):\n",
    "    if isinstance(obj, Decimal):\n",
    "        return int(obj.num)\n",
    "    return obj.__dict__\n",
    "\n",
    "    \n",
    "json_str = json.dumps(data, default=encode)\n",
    "print(json_str)\n",
    "type(json_str)"
   ]
  },
  {
   "cell_type": "markdown",
   "id": "collectible-entity",
   "metadata": {},
   "source": [
    "The above output displays the python type of the resulting JSON dumps calls as a string instead of a dictionary.  Binary data is transferred across the wire when using JSON. JSON represents its data as a human-readable string.  If you would like to access the properties of the JSON object, you will not be able to do so unless you reconvert the string back into a python object."
   ]
  }
 ],
 "metadata": {
  "kernelspec": {
   "display_name": "Python 3",
   "language": "python",
   "name": "python3"
  },
  "language_info": {
   "codemirror_mode": {
    "name": "ipython",
    "version": 3
   },
   "file_extension": ".py",
   "mimetype": "text/x-python",
   "name": "python",
   "nbconvert_exporter": "python",
   "pygments_lexer": "ipython3",
   "version": "3.7.7"
  }
 },
 "nbformat": 4,
 "nbformat_minor": 5
}
