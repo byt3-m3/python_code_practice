{
 "cells": [
  {
   "cell_type": "markdown",
   "id": "ancient-bangladesh",
   "metadata": {},
   "source": [
    "#  Serailizing Custom objects in JSON"
   ]
  },
  {
   "cell_type": "markdown",
   "id": "excited-bride",
   "metadata": {},
   "source": [
    "This guide will walk through creating custom serializers when dumping dictionaries to JSON objects. \n",
    "\n",
    "Below we will create an example where we have a python dictionary that needs to be converted to a JSON string. JSON can only convert specefic python types.\n",
    "\n",
    "Below is an table of the default supported types:\n",
    "\n",
    "| Python      | JSON        |\n",
    "| ----------- | ----------- |\n",
    "| dict      | ojbect        |\n",
    "| list, tuple   | array        |\n",
    "|str  | str        |\n",
    "|int, float, int- & float-derived Enums  | number    |\n",
    "|True  | true        |\n",
    "|False  | false        |\n",
    "|None  | null        |\n",
    "\n",
    "\n"
   ]
  },
  {
   "cell_type": "markdown",
   "id": "portable-picking",
   "metadata": {},
   "source": [
    "Custom Python objects will have an issue serializing and will require custom encoders to process those types. \n",
    "\n",
    "First lets set up the enviorment by importing the JSON module. In this example our dictionary will contain an item with a custom class called \"Decimal\". When invoking the json.dumps method, we will illustrate what happens when you do and do not have a customer decorder configured.  \n",
    "\n",
    "1. lets Create the Decimal class. We will create an constructor method that will take a parameter named \"num\". The property \"num\" will be stored as state for Decimal instance.  \n",
    "\n",
    "2. We Will create an instance of the Decimal class with a number of 5"
   ]
  },
  {
   "cell_type": "code",
   "execution_count": 17,
   "id": "assigned-steel",
   "metadata": {},
   "outputs": [],
   "source": [
    "import json \n",
    "\n",
    "# Step 1\n",
    "class Decimal:\n",
    "    def __init__(self, num):\n",
    "        self.num = num\n",
    "        \n",
    "    def __repr__(self):\n",
    "        return f'< Decimal(num={self.num}) >'\n",
    "\n",
    "    \n",
    "# Step 2\n",
    "my_decimal = Decimal(5)"
   ]
  },
  {
   "cell_type": "markdown",
   "id": "valid-walker",
   "metadata": {},
   "source": [
    "Next we will create a python dictionary that will nest the Decimal object for the key \"item1\" and an value of 5 for the key \"item2\".\n",
    "\n",
    "After pritning the types of the items, you will notice "
   ]
  },
  {
   "cell_type": "code",
   "execution_count": 26,
   "id": "excellent-company",
   "metadata": {},
   "outputs": [
    {
     "name": "stdout",
     "output_type": "stream",
     "text": [
      "Item1 Type: <class '__main__.Decimal'>\n",
      "Item2 Type: <class 'int'>\n"
     ]
    }
   ],
   "source": [
    "data = {\n",
    "    \"item1\": my_decimal,\n",
    "    \"item2\": 5\n",
    "}\n",
    "\n",
    "print(f'Item1 Type: {type(data[\"item1\"])}')\n",
    "print(f'Item2 Type: {type(data[\"item2\"])}')\n",
    "\n"
   ]
  },
  {
   "cell_type": "markdown",
   "id": "divided-ferry",
   "metadata": {},
   "source": [
    "Now lets try to dump the data object in its current state without the serialize funtion. We should expect to get an TypeError exception raised. for the sake of real estate, I will wrap the call in an exception block to better handler the screen dump"
   ]
  },
  {
   "cell_type": "code",
   "execution_count": 15,
   "id": "solid-platinum",
   "metadata": {},
   "outputs": [
    {
     "name": "stdout",
     "output_type": "stream",
     "text": [
      "Object of type Decimal is not JSON serializable\n"
     ]
    }
   ],
   "source": [
    "try:\n",
    "    json.dumps(data)\n",
    "except TypeError as err:\n",
    "    print(err)\n",
    "    \n"
   ]
  },
  {
   "cell_type": "markdown",
   "id": "regulated-calcium",
   "metadata": {},
   "source": [
    "Next lets create a seralization function that will be able to handle the conversion. Then we will pass the newly created serialize function to the 'default' parameter to the json.dumps function call"
   ]
  },
  {
   "cell_type": "code",
   "execution_count": null,
   "id": "artistic-medicaid",
   "metadata": {},
   "outputs": [],
   "source": [
    "def serialize(obj):\n",
    "    if isinstance(obj, Decimal):\n",
    "        return int(obj.num)\n",
    "    return obj.__dict__\n",
    "\n",
    "    \n",
    "json.dumps(data, default=serialize)"
   ]
  }
 ],
 "metadata": {
  "kernelspec": {
   "display_name": "Python 3",
   "language": "python",
   "name": "python3"
  },
  "language_info": {
   "codemirror_mode": {
    "name": "ipython",
    "version": 3
   },
   "file_extension": ".py",
   "mimetype": "text/x-python",
   "name": "python",
   "nbconvert_exporter": "python",
   "pygments_lexer": "ipython3",
   "version": "3.7.7"
  }
 },
 "nbformat": 4,
 "nbformat_minor": 5
}
