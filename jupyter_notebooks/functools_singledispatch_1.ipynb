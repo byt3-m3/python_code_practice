{
 "cells": [
  {
   "cell_type": "markdown",
   "id": "246c6f1b",
   "metadata": {},
   "source": [
    "# functools.singledispatch for Network Engineers\n",
    " \n",
    "\n",
    "This blog will cover how to solve polymorphism use cases using the singledispatch decorator.  \n",
    "\n",
    "In the past I would sove this this problem using solution 1 but then slowly eveolved into the Solution 2. Solution 3 will be my new go to and Ill explain why below."
   ]
  },
  {
   "cell_type": "markdown",
   "id": "e231633b",
   "metadata": {},
   "source": [
    "First lets import the packages that we will need for this demo. I will be using dataclasses in this example. If you are looking to recreate this code, Python 3.7 will be required.    "
   ]
  },
  {
   "cell_type": "code",
   "execution_count": 1,
   "id": "c76c3a47",
   "metadata": {},
   "outputs": [],
   "source": [
    "from dataclasses import dataclass\n",
    "from functools import singledispatch"
   ]
  },
  {
   "cell_type": "markdown",
   "id": "fa23f519",
   "metadata": {},
   "source": [
    "## Set Up\n",
    "\n",
    "Next lets define the models we will use for the Demo. In this example I will be explaining how to handle diffrent router types.  The varaints of this base type Router will be CiscoRouter and JuniperRouter. This simulates what Network Engineers would need to prepare for in the our domain.\n",
    "\n",
    "\n",
    "lets create our dataclasses(click, if you are not familair with, [Data classes](https://docs.python.org/3/library/dataclasses.html). \n",
    "\n",
    "The first class will be the base class Router. This router will be inhertited by the CiscoRouter and JuniperRouter classes. \n",
    "\n",
    "A CiscoRouter or JuniperRouter can be of type Router, but a JuiperRouter cannot be of type CiscoRouter or vice versa. \n",
    "\n",
    "Next we will define 2 handlers, one for cisco router and another for Juniper routers. "
   ]
  },
  {
   "cell_type": "code",
   "execution_count": 27,
   "id": "e32bf964",
   "metadata": {},
   "outputs": [],
   "source": [
    "@dataclass\n",
    "class Router:\n",
    "    hostname: str\n",
    "    vendor: str = \"unknown\"\n",
    "\n",
    "@dataclass\n",
    "class CiscoRouter(Router):\n",
    "    vendor: str = \"cisco\"\n",
    "\n",
    "\n",
    "@dataclass\n",
    "class JuniperRouter(Router):\n",
    "    vendor: str = \"juniper\"\n",
    " \n",
    "\n",
    "# Handlers\n",
    "def _handle_cisco(router: CiscoRouter):\n",
    "    print(\"Handling Cisco Router\")\n",
    "\n",
    "    \n",
    "def _handle_juniper(router: JuniperRouter):\n",
    "    print(\"Handling Juniper Router\")\n",
    "    \n",
    "def _handle_router(router: Router):\n",
    "    print(\"Handling Generic router\")"
   ]
  },
  {
   "cell_type": "code",
   "execution_count": 28,
   "id": "8db99198",
   "metadata": {},
   "outputs": [],
   "source": [
    "routers = [\n",
    "    CiscoRouter(\"R1\"), \n",
    "    JuniperRouter(\"R2\"),\n",
    "    Router(\"R3\")\n",
    "]"
   ]
  },
  {
   "cell_type": "markdown",
   "id": "de55b2bd",
   "metadata": {},
   "source": [
    "##  Solution 1\n",
    "\n",
    "We will define 1 function and 2 private functions. In python visibity is assumed by name of the function and the value '_' underscore prepended on a function indicates that function is private. \n",
    "\n",
    "the _handle_cisco and _handle_juinper functions, the will expect an instance of the respective rotuer type. When using this API, the user will only call the handle_router function that is used determine which handler will need to be called. \n",
    "\n",
    "In this example, is check the instance of the router, and if it of the specefiied instance, the correct handler is called\n",
    "\n",
    "### Benefits\n",
    "\n",
    "### Drawbacks\n",
    "- Everytime a new device is supportted, a new conditional and handler needs to be provisioned, if you support hundreds of routers, this task can be very hard to maintain and scale"
   ]
  },
  {
   "cell_type": "code",
   "execution_count": 35,
   "id": "b449ace2",
   "metadata": {},
   "outputs": [
    {
     "name": "stdout",
     "output_type": "stream",
     "text": [
      "Handling Generic router\n",
      "Handling Generic router\n",
      "Handling Generic router\n"
     ]
    }
   ],
   "source": [
    "def handle_router(router: Router): # generic function\n",
    "    if isinstance(router, Router): \n",
    "        return _handle_router(router)\n",
    "    \n",
    "    if isinstance(router, CiscoRouter): # never executes matters\n",
    "        return _handle_cisco(router)\n",
    "        \n",
    "    if isinstance(router, JuniperRouter): # never executes matters\n",
    "        return _handle_juniper(router)\n",
    "    \n",
    "    \n",
    "    \n",
    "\n",
    "for router in routers:\n",
    "    handle_router(router)"
   ]
  },
  {
   "cell_type": "code",
   "execution_count": 36,
   "id": "10b9a325",
   "metadata": {},
   "outputs": [
    {
     "name": "stdout",
     "output_type": "stream",
     "text": [
      "Handling Cisco Router\n",
      "Handling Juniper Router\n",
      "Handling Generic router\n"
     ]
    }
   ],
   "source": [
    "def handle_router(router: Router): # generic function\n",
    "    if isinstance(router, CiscoRouter):\n",
    "        return _handle_cisco(router)\n",
    "        \n",
    "    if isinstance(router, JuniperRouter):\n",
    "        return _handle_juniper(router)\n",
    "    \n",
    "    if isinstance(router, Router): # position matters, default catch all\n",
    "        return _handle_router(router)\n",
    "    \n",
    "\n",
    "for router in routers:\n",
    "    handle_router(router)"
   ]
  },
  {
   "cell_type": "markdown",
   "id": "f9c215a7",
   "metadata": {},
   "source": [
    "## Solution 2\n",
    "\n",
    "In this soution will use dictionary to preform looks up for the correct handler.  We will define an handler_map that will use the vendors name as the key and the handler function as the value. \n",
    "\n",
    "This solution is simple, once the handle_router_v2 function is called, a dictionary look up is preformed, if a match is not found, the _handle_cisco handler will be used. \n",
    "\n",
    "### Benefits\n",
    "\n",
    "### Drawbacks"
   ]
  },
  {
   "cell_type": "code",
   "execution_count": 37,
   "id": "5aa00c84",
   "metadata": {},
   "outputs": [
    {
     "name": "stdout",
     "output_type": "stream",
     "text": [
      "Handling Cisco Router\n",
      "Handling Juniper Router\n",
      "Handling Generic router\n"
     ]
    }
   ],
   "source": [
    "handler_map = {\n",
    "    \"cisco\": _handle_cisco,\n",
    "    \"juniper\": _handle_juniper\n",
    "}\n",
    "\n",
    "def handle_router_v2(router: Router): # generic function\n",
    "    _handler = handler_map.get(router.vendor, _handle_router)\n",
    "    return _handler(router)\n",
    "\n",
    "    \n",
    "for router in routers:\n",
    "    handle_router_v2(router)\n"
   ]
  },
  {
   "cell_type": "markdown",
   "id": "8f8b958e",
   "metadata": {},
   "source": [
    "## Solution 3\n",
    "\n",
    "IN Solution 3, We will explore the use of the singledispatch utility decorator in the functools package. in this example we will define what process_router function. This function is used by the consumers of our API in order to make the call the process the apporiiated router. \n",
    "\n",
    "The 2 functions below the process router definition may not see like working functions but this is where the fool factor of the singledispatch occurs. \n",
    "\n",
    "1. @singledispatch decorator is used on the main function to indicate the activation of the singledispatch feature.\n",
    "2. the functions name \"_\" indicates a nameless function. The way the function calls are handled is by the @func_name.register decorator. the way single dispatch knows what type needs to map to a single nameless function is by the use of TypeHint. \n",
    "\n",
    "### Benefits\n",
    "\n",
    "### Drawbacks"
   ]
  },
  {
   "cell_type": "code",
   "execution_count": 40,
   "id": "4a84df6c",
   "metadata": {},
   "outputs": [
    {
     "name": "stdout",
     "output_type": "stream",
     "text": [
      "Handling  Cisco Router\n",
      "Handling  Juniper Router\n",
      "Handling  Generic Router\n"
     ]
    }
   ],
   "source": [
    "@singledispatch\n",
    "def handle_router_v3(router: Router): # generic function\n",
    "    print(\"Handling  Generic Router\")\n",
    "\n",
    "\n",
    "@handle_router_v3.register\n",
    "def _(router: CiscoRouter):\n",
    "    print(\"Handling  Cisco Router\")\n",
    "\n",
    "\n",
    "@handle_router_v3.register\n",
    "def _(router: JuniperRouter):\n",
    "    print(\"Handling  Juniper Router\")\n",
    "\n",
    "for router in routers:\n",
    "    handle_router_v3(router)\n"
   ]
  },
  {
   "cell_type": "code",
   "execution_count": null,
   "id": "26fc3e53",
   "metadata": {},
   "outputs": [],
   "source": []
  }
 ],
 "metadata": {
  "kernelspec": {
   "display_name": "Python 3",
   "language": "python",
   "name": "python3"
  },
  "language_info": {
   "codemirror_mode": {
    "name": "ipython",
    "version": 3
   },
   "file_extension": ".py",
   "mimetype": "text/x-python",
   "name": "python",
   "nbconvert_exporter": "python",
   "pygments_lexer": "ipython3",
   "version": "3.8.8"
  }
 },
 "nbformat": 4,
 "nbformat_minor": 5
}
