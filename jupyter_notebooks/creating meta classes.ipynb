{
 "cells": [
  {
   "cell_type": "markdown",
   "id": "hearing-barrier",
   "metadata": {},
   "source": [
    "# Modifying creation of classes with Meta classes"
   ]
  },
  {
   "cell_type": "code",
   "execution_count": 29,
   "id": "informal-booth",
   "metadata": {},
   "outputs": [
    {
     "name": "stdout",
     "output_type": "stream",
     "text": [
      "Old Attrs: {'__module__': '__main__', '__qualname__': 'Router', 'hostname': None, 'mgmt_ip': None, 'connect': <function Router.connect at 0x000001C16C60B048>}\n",
      "\n",
      "New Attrs: {'__module__': '__main__', '__qualname__': 'Router', 'Hostname': None, 'Mgmt_ip': None, 'connect': <function Router.connect at 0x000001C16C60B048>}\n",
      "\n",
      "['Hostname', 'Mgmt_ip', '__class__', '__delattr__', '__dict__', '__dir__', '__doc__', '__eq__', '__format__', '__ge__', '__getattribute__', '__gt__', '__hash__', '__init__', '__init_subclass__', '__le__', '__lt__', '__module__', '__ne__', '__new__', '__reduce__', '__reduce_ex__', '__repr__', '__setattr__', '__sizeof__', '__str__', '__subclasshook__', '__weakref__', 'connect']\n"
     ]
    }
   ],
   "source": [
    "from typing import Callable\n",
    "\n",
    "\n",
    "class Meta(type):\n",
    "    def __new__(self, class_name, bases, attrs):\n",
    "        \n",
    "        new_attrs = {}\n",
    "        \n",
    "        '''\n",
    "        Iterates through the attributes, \n",
    "        if dunder methods are found add to new_attrs \n",
    "        else if attr value is not of type function capatilize the attribute name\n",
    "        \n",
    "        '''  \n",
    "        for key, val in attrs.items():\n",
    "            if key.startswith(\"__\"):\n",
    "                new_attrs[key] = val\n",
    "                \n",
    "            elif not isinstance(val, Callable):\n",
    "                new_attrs[key.capitalize()] = val\n",
    "            else:\n",
    "                new_attrs[key] = val\n",
    "                \n",
    "        print(f'Old Attrs: {attrs}\\n')        \n",
    "        print(f'New Attrs: {new_attrs}\\n')\n",
    "        \n",
    "        return type(class_name, bases, new_attrs)\n",
    "    \n",
    "class Router(metaclass=Meta):\n",
    "    hostname = None\n",
    "    mgmt_ip = None\n",
    "    \n",
    "    def connect():\n",
    "        return True\n",
    "    \n",
    "r1 = Router()\n",
    "print(dir(r1))"
   ]
  },
  {
   "cell_type": "code",
   "execution_count": null,
   "id": "adaptive-bulletin",
   "metadata": {},
   "outputs": [],
   "source": []
  },
  {
   "cell_type": "code",
   "execution_count": null,
   "id": "cubic-webmaster",
   "metadata": {},
   "outputs": [],
   "source": []
  }
 ],
 "metadata": {
  "kernelspec": {
   "display_name": "Python 3",
   "language": "python",
   "name": "python3"
  },
  "language_info": {
   "codemirror_mode": {
    "name": "ipython",
    "version": 3
   },
   "file_extension": ".py",
   "mimetype": "text/x-python",
   "name": "python",
   "nbconvert_exporter": "python",
   "pygments_lexer": "ipython3",
   "version": "3.7.7"
  }
 },
 "nbformat": 4,
 "nbformat_minor": 5
}
