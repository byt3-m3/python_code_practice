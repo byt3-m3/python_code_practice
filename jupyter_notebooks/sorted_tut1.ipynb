{
 "cells": [
  {
   "cell_type": "markdown",
   "id": "coupled-major",
   "metadata": {},
   "source": [
    "# Sorted "
   ]
  },
  {
   "cell_type": "code",
   "execution_count": 17,
   "id": "stupid-iceland",
   "metadata": {},
   "outputs": [],
   "source": [
    "users = [\n",
    "   {\n",
    "       \"id\": 1,\n",
    "       \"f_name\": \"Bill\",\n",
    "       \"l_name\": \"Allen\"\n",
    "   },\n",
    "    {\n",
    "       \"id\": 3,\n",
    "       \"f_name\": \"Ash\",\n",
    "       \"l_name\": \"Crow\"\n",
    "   },\n",
    "    {\n",
    "       \"id\": 2,\n",
    "       \"f_name\": \"Carl\",\n",
    "       \"l_name\": \"Baker\"\n",
    "   }\n",
    "    \n",
    "]"
   ]
  },
  {
   "cell_type": "code",
   "execution_count": 21,
   "id": "closed-projector",
   "metadata": {},
   "outputs": [],
   "source": [
    "sorted_users = sorted(users, key=lambda item: item.get(\"l_name\", item.get(\"id\")))"
   ]
  },
  {
   "cell_type": "code",
   "execution_count": 22,
   "id": "handmade-trainer",
   "metadata": {},
   "outputs": [
    {
     "name": "stdout",
     "output_type": "stream",
     "text": [
      "[{'id': 3, 'f_name': 'Ash', 'l_name': 'Crow'}, {'id': 1, 'f_name': 'Bill', 'l_name': 'Allen'}, {'id': 2, 'f_name': 'Carl', 'l_name': 'Baker'}]\n",
      "[{'id': 1, 'f_name': 'Bill', 'l_name': 'Allen'}, {'id': 2, 'f_name': 'Carl', 'l_name': 'Baker'}, {'id': 3, 'f_name': 'Ash', 'l_name': 'Crow'}]\n",
      "[{'id': 1, 'f_name': 'Bill', 'l_name': 'Allen'}, {'id': 2, 'f_name': 'Carl', 'l_name': 'Baker'}, {'id': 3, 'f_name': 'Ash', 'l_name': 'Crow'}]\n"
     ]
    }
   ],
   "source": [
    "def _sort_by_f_name(item):\n",
    "    return item.get(\"f_name\", item.get(\"id\"))\n",
    "\n",
    "def _sort_by_l_name(item):\n",
    "    return item.get(\"l_name\", item.get(\"id\"))\n",
    "\n",
    "\n",
    "sorted_f_name = sorted(users, key=_sort_by_f_name)\n",
    "sorted_l_name = sorted(users, key=_sort_by_l_name)\n",
    "\n",
    "\n",
    "print(sorted_f_name)\n",
    "print(sorted_l_name)\n",
    "print(sorted_users)"
   ]
  },
  {
   "cell_type": "code",
   "execution_count": null,
   "id": "extended-finland",
   "metadata": {},
   "outputs": [],
   "source": []
  },
  {
   "cell_type": "code",
   "execution_count": null,
   "id": "vital-throw",
   "metadata": {},
   "outputs": [],
   "source": []
  }
 ],
 "metadata": {
  "kernelspec": {
   "display_name": "Python 3",
   "language": "python",
   "name": "python3"
  },
  "language_info": {
   "codemirror_mode": {
    "name": "ipython",
    "version": 3
   },
   "file_extension": ".py",
   "mimetype": "text/x-python",
   "name": "python",
   "nbconvert_exporter": "python",
   "pygments_lexer": "ipython3",
   "version": "3.7.7"
  }
 },
 "nbformat": 4,
 "nbformat_minor": 5
}
