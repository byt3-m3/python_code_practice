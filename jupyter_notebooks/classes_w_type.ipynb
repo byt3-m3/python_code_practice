{
 "cells": [
  {
   "cell_type": "markdown",
   "id": "partial-exhibit",
   "metadata": {},
   "source": [
    "# Creating Classes with type"
   ]
  },
  {
   "cell_type": "code",
   "execution_count": 35,
   "id": "activated-riverside",
   "metadata": {},
   "outputs": [
    {
     "name": "stdout",
     "output_type": "stream",
     "text": [
      "<__main__.router_a object at 0x000002312BDAB708>\n"
     ]
    }
   ],
   "source": [
    "RouterClassA = type('router_a', (), {})\n",
    "\n",
    "r1_a = RouterClassA() \n",
    "\n",
    "print(r1_a)"
   ]
  },
  {
   "cell_type": "code",
   "execution_count": 41,
   "id": "biblical-neutral",
   "metadata": {},
   "outputs": [
    {
     "name": "stdout",
     "output_type": "stream",
     "text": [
      "r1_b\n"
     ]
    }
   ],
   "source": [
    "RouterClassB = type('router_b', (), {\"hostname\": \"r1_b\"})\n",
    "\n",
    "r1_b = RouterClassB() \n",
    "\n",
    "print(r1_b .hostname)"
   ]
  },
  {
   "cell_type": "code",
   "execution_count": 40,
   "id": "instructional-delight",
   "metadata": {},
   "outputs": [
    {
     "name": "stdout",
     "output_type": "stream",
     "text": [
      "You must add the ',' for the param to register as an tuple. Ie: '(BaseRouter,)' \n",
      "\n",
      "None\n"
     ]
    }
   ],
   "source": [
    "class BaseRouter:\n",
    "    def __init__(self):\n",
    "        self.hostname = None\n",
    "\n",
    "\n",
    "try:\n",
    "    BadClass = type('router_C', (BaseRouter), {\"c_prop\": None})\n",
    "except TypeError:\n",
    "    print(\"You must add the ',' for the param to register as an tuple. Ie: '(BaseRouter,)' \\n\")\n",
    "  \n",
    "\n",
    "\n",
    "\n",
    "RouterClassC = type('router_C', (BaseRouter,), {\"c_prop\": None})\n",
    "\n",
    "r1_c = RouterClassC() \n",
    "\n",
    "print(r1_c .hostname)"
   ]
  },
  {
   "cell_type": "code",
   "execution_count": 38,
   "id": "available-filter",
   "metadata": {},
   "outputs": [
    {
     "name": "stdout",
     "output_type": "stream",
     "text": [
      "True\n",
      "False\n"
     ]
    }
   ],
   "source": [
    "def is_on(self):\n",
    "    if self.on:\n",
    "        return True\n",
    "    else:\n",
    "        return False\n",
    "\n",
    "def power_button_click(self):\n",
    "    if self.on:\n",
    "        self.on = False\n",
    "    else:\n",
    "        self.on = True\n",
    "    \n",
    "RouterClassD = type('router_d', (), {\"on\": False, \"is_on\": is_on, \"toggle_power\": power_button_click })\n",
    "\n",
    "r1_d = RouterClassD() \n",
    "\n",
    "r1_d.toggle_power()\n",
    "print(r1_d.is_on())\n",
    "\n",
    "r1_d.toggle_power()\n",
    "print(r1_d.is_on())    "
   ]
  },
  {
   "cell_type": "code",
   "execution_count": 43,
   "id": "cognitive-potato",
   "metadata": {},
   "outputs": [
    {
     "name": "stdout",
     "output_type": "stream",
     "text": [
      "cisco\n",
      "r1_e\n",
      "True\n",
      "True\n"
     ]
    }
   ],
   "source": [
    "class _BaseRouter:\n",
    "    def __init__(self, hostname):\n",
    "        self.hostname = hostname\n",
    "    \n",
    "    def is_on(self):\n",
    "        if self.on:\n",
    "            return True\n",
    "        else:\n",
    "            return False\n",
    "\n",
    "    def power_button_click(self):\n",
    "        if self.on:\n",
    "            self.on = False\n",
    "        else:\n",
    "            self.on = True\n",
    "\n",
    "            \n",
    "def set_vendor(self, vendor):\n",
    "    self.vendor = vendor\n",
    "    \n",
    "\n",
    "RouterClassE = type('router_e', (_BaseRouter,), {\"vendor\": None, \"set_vendor\": set_vendor})\n",
    "\n",
    "r1_e = RouterClassE(hostname=\"r1_e\") \n",
    "r1_e.set_vendor(\"cisco\")\n",
    "\n",
    "print(r1_e.vendor)\n",
    "print(r1_e.hostname)\n",
    "print(isinstance(r1_e, _BaseRouter))\n",
    "print(isinstance(r1_e, RouterClassE))"
   ]
  },
  {
   "cell_type": "code",
   "execution_count": null,
   "id": "rolled-vegetation",
   "metadata": {},
   "outputs": [],
   "source": []
  }
 ],
 "metadata": {
  "kernelspec": {
   "display_name": "Python 3",
   "language": "python",
   "name": "python3"
  },
  "language_info": {
   "codemirror_mode": {
    "name": "ipython",
    "version": 3
   },
   "file_extension": ".py",
   "mimetype": "text/x-python",
   "name": "python",
   "nbconvert_exporter": "python",
   "pygments_lexer": "ipython3",
   "version": "3.7.7"
  }
 },
 "nbformat": 4,
 "nbformat_minor": 5
}
